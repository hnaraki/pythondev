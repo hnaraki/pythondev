{
 "cells": [
  {
   "cell_type": "markdown",
   "id": "e6aac4a0",
   "metadata": {},
   "source": [
    "# 課題9：再帰的な関数でのフィボナッチ数列"
   ]
  },
  {
   "cell_type": "code",
   "execution_count": 1,
   "id": "6da8bae9",
   "metadata": {},
   "outputs": [],
   "source": [
    "from prognum import factorial, fib"
   ]
  },
  {
   "cell_type": "code",
   "execution_count": 2,
   "id": "bdf230f9",
   "metadata": {},
   "outputs": [
    {
     "data": {
      "text/plain": [
       "120"
      ]
     },
     "execution_count": 2,
     "metadata": {},
     "output_type": "execute_result"
    }
   ],
   "source": [
    "factorial(5)"
   ]
  },
  {
   "cell_type": "code",
   "execution_count": 3,
   "id": "cee1dfc3",
   "metadata": {},
   "outputs": [
    {
     "name": "stdout",
     "output_type": "stream",
     "text": [
      "21\n",
      "34\n",
      "55\n"
     ]
    }
   ],
   "source": [
    "while True:\n",
    "    n = int(input(\"何番目の数値を求めますか？：\"))\n",
    "    if n <= 0:\n",
    "        break\n",
    "    print(fib(n))"
   ]
  }
 ],
 "metadata": {
  "kernelspec": {
   "display_name": ".venv",
   "language": "python",
   "name": "python3"
  },
  "language_info": {
   "codemirror_mode": {
    "name": "ipython",
    "version": 3
   },
   "file_extension": ".py",
   "mimetype": "text/x-python",
   "name": "python",
   "nbconvert_exporter": "python",
   "pygments_lexer": "ipython3",
   "version": "3.13.2"
  }
 },
 "nbformat": 4,
 "nbformat_minor": 5
}
