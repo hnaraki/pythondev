{
 "cells": [
  {
   "cell_type": "markdown",
   "id": "eef8534b",
   "metadata": {},
   "source": [
    "# 課題8：単語内の文字数カウント"
   ]
  },
  {
   "cell_type": "code",
   "execution_count": 1,
   "id": "c8194f50",
   "metadata": {},
   "outputs": [
    {
     "name": "stdout",
     "output_type": "stream",
     "text": [
      "入力した英単語： ['bear', 'cat', 'dog', 'giraffe', 'horse', 'kangaroo']\n",
      "aが5個ありました\n",
      "bが1個ありました\n",
      "cが1個ありました\n",
      "dが1個ありました\n",
      "eが3個ありました\n",
      "fが2個ありました\n",
      "gが3個ありました\n",
      "hが1個ありました\n",
      "iが1個ありました\n",
      "kが1個ありました\n",
      "nが1個ありました\n",
      "oが4個ありました\n",
      "rが4個ありました\n",
      "sが1個ありました\n",
      "tが1個ありました\n"
     ]
    }
   ],
   "source": [
    "import string\n",
    "\n",
    "# 英単語を格納するための空のリスト\n",
    "words = list()\n",
    "\n",
    "# キーがアルファベット小文字の各文字で、値が0の辞書を作成\n",
    "alphabet_list = list(string.ascii_lowercase)\n",
    "char_count = dict.fromkeys(list(alphabet_list), 0)\n",
    "\n",
    "# キーボードから英単語の入力を受け\n",
    "while True:\n",
    "    word = input(\"英単語を入力してください：\")\n",
    "    # 未入力でリターン（エンター）キーを押されるまで、英単語の入力の受け付けを繰り返し\n",
    "    if word == '':\n",
    "        break\n",
    "    # 入力された英単語は都度リストに格納\n",
    "    words.append(word)\n",
    "\n",
    "# 内容を一覧表示\n",
    "# 入力された英単語のリストを一覧表示(ABC順に並べ替えてから表示)\n",
    "print(\"入力した英単語：\", sorted(words))\n",
    "# 辞書を使って加算した値のうち、1文字以上あったすべての文字について「○が△個ありました」を表示\n",
    "for char in char_count:\n",
    "    # 入力された英単語の中に、辞書のキーである文字が含まれている場合\n",
    "    if char in ''.join(words):\n",
    "        # その文字が何回出現したかをカウント\n",
    "        char_count[char] = sum(word.count(char) for word in words)\n",
    "        print(f\"{char}が{char_count[char]}個ありました\")"
   ]
  }
 ],
 "metadata": {
  "kernelspec": {
   "display_name": ".venv",
   "language": "python",
   "name": "python3"
  },
  "language_info": {
   "codemirror_mode": {
    "name": "ipython",
    "version": 3
   },
   "file_extension": ".py",
   "mimetype": "text/x-python",
   "name": "python",
   "nbconvert_exporter": "python",
   "pygments_lexer": "ipython3",
   "version": "3.13.2"
  }
 },
 "nbformat": 4,
 "nbformat_minor": 5
}
