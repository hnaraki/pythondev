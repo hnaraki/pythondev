{
 "cells": [
  {
   "cell_type": "markdown",
   "id": "766ee8e9",
   "metadata": {},
   "source": [
    "# 課題7：九九の表"
   ]
  },
  {
   "cell_type": "code",
   "execution_count": 13,
   "id": "147ac63b",
   "metadata": {},
   "outputs": [],
   "source": [
    "#@title 九九のリストを作成する\n",
    "multiplication_table = []\n",
    "for i in range(1, 10):\n",
    "    row = []\n",
    "    for j in range(1, 10):\n",
    "        row.append(i * j)\n",
    "    multiplication_table.append(row)\n"
   ]
  },
  {
   "cell_type": "code",
   "execution_count": null,
   "id": "e630d4d4",
   "metadata": {},
   "outputs": [
    {
     "name": "stdout",
     "output_type": "stream",
     "text": [
      " 81  9 18 27 36 45 54 63 72\n",
      "  9  1  2  3  4  5  6  7  8\n",
      " 18  2  4  6  8 10 12 14 16\n",
      " 27  3  6  9 12 15 18 21 24\n",
      " 36  4  8 12 16 20 24 28 32\n",
      " 45  5 10 15 20 25 30 35 40\n",
      " 54  6 12 18 24 30 36 42 48\n",
      " 63  7 14 21 28 35 42 49 56\n",
      " 72  8 16 24 32 40 48 56 64\n"
     ]
    }
   ],
   "source": [
    "#@title 九九の表を表示する\n",
    "for v in range(1, 10):\n",
    "    for h in range(1, 10):\n",
    "        print(f\"{multiplication_table[v-1][h-1]:3d}\", end=\"\")\n",
    "\n",
    "    print(\"\")"
   ]
  },
  {
   "cell_type": "code",
   "execution_count": null,
   "id": "4881bf90",
   "metadata": {},
   "outputs": [],
   "source": []
  }
 ],
 "metadata": {
  "kernelspec": {
   "display_name": ".venv",
   "language": "python",
   "name": "python3"
  },
  "language_info": {
   "codemirror_mode": {
    "name": "ipython",
    "version": 3
   },
   "file_extension": ".py",
   "mimetype": "text/x-python",
   "name": "python",
   "nbconvert_exporter": "python",
   "pygments_lexer": "ipython3",
   "version": "3.13.2"
  }
 },
 "nbformat": 4,
 "nbformat_minor": 5
}
