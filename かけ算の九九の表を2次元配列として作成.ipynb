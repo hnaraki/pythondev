{
 "cells": [
  {
   "cell_type": "markdown",
   "id": "6de08875",
   "metadata": {},
   "source": [
    "# 練習問題： かけ算の九九の表を2次元配列として作成する"
   ]
  },
  {
   "cell_type": "markdown",
   "id": "de07697f",
   "metadata": {},
   "source": [
    "## コード1"
   ]
  },
  {
   "cell_type": "code",
   "execution_count": 1,
   "id": "eb4dd535",
   "metadata": {},
   "outputs": [
    {
     "name": "stdout",
     "output_type": "stream",
     "text": [
      "[[ 1  2  3  4  5  6  7  8  9]\n",
      " [ 2  4  6  8 10 12 14 16 18]\n",
      " [ 3  6  9 12 15 18 21 24 27]\n",
      " [ 4  8 12 16 20 24 28 32 36]\n",
      " [ 5 10 15 20 25 30 35 40 45]\n",
      " [ 6 12 18 24 30 36 42 48 54]\n",
      " [ 7 14 21 28 35 42 49 56 63]\n",
      " [ 8 16 24 32 40 48 56 64 72]\n",
      " [ 9 18 27 36 45 54 63 72 81]]\n"
     ]
    }
   ],
   "source": [
    "# NumPyをインポート\n",
    "import numpy as np \n",
    "\n",
    "# 1から9までの連続した整数値の1次元配列aを作成\n",
    "a = np.array([1, 2, 3, 4, 5, 6, 7, 8, 9])\n",
    "\n",
    "# 1から9までの連続した整数値の1次元配列bを作成\n",
    "b = np.arange(1, 10)\n",
    "\n",
    "# bを9行x1列の2次元配列に変換\n",
    "b = b.reshape(9,1)\n",
    "\n",
    "# 以下のような行列のかけ算を行うことで\n",
    "# 9行x9列の2次元配列(九九の表)が作成される\n",
    "c = a * b\n",
    "\n",
    "# cを表示\n",
    "print(c)"
   ]
  },
  {
   "cell_type": "markdown",
   "id": "f32240f6",
   "metadata": {},
   "source": [
    "## コード2"
   ]
  },
  {
   "cell_type": "code",
   "execution_count": 2,
   "id": "1839a3e6",
   "metadata": {},
   "outputs": [
    {
     "name": "stdout",
     "output_type": "stream",
     "text": [
      "[[ 1  2  3  4  5  6  7  8  9]\n",
      " [ 2  4  6  8 10 12 14 16 18]\n",
      " [ 3  6  9 12 15 18 21 24 27]\n",
      " [ 4  8 12 16 20 24 28 32 36]\n",
      " [ 5 10 15 20 25 30 35 40 45]\n",
      " [ 6 12 18 24 30 36 42 48 54]\n",
      " [ 7 14 21 28 35 42 49 56 63]\n",
      " [ 8 16 24 32 40 48 56 64 72]\n",
      " [ 9 18 27 36 45 54 63 72 81]]\n"
     ]
    }
   ],
   "source": [
    "# NumPyをインポート\n",
    "import numpy as np \n",
    "\n",
    "# 9行x9列の2次元配列を作成\n",
    "d = np.ndarray((9,9))\n",
    "\n",
    "# dは要素がfloat64型の配列であるため\n",
    "# 整数のint8型の配列に変換\n",
    "d = d.astype(np.int8)\n",
    "\n",
    "# 2重ループで九九の表を作成\n",
    "for i in range(9):\n",
    "    for j in range(9):\n",
    "        d[i][j] = (i + 1) * (j + 1)\n",
    "\n",
    "print(d)"
   ]
  }
 ],
 "metadata": {
  "kernelspec": {
   "display_name": ".venv",
   "language": "python",
   "name": "python3"
  },
  "language_info": {
   "codemirror_mode": {
    "name": "ipython",
    "version": 3
   },
   "file_extension": ".py",
   "mimetype": "text/x-python",
   "name": "python",
   "nbconvert_exporter": "python",
   "pygments_lexer": "ipython3",
   "version": "3.12.11"
  }
 },
 "nbformat": 4,
 "nbformat_minor": 5
}
