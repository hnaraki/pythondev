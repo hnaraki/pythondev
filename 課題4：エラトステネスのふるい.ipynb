{
 "cells": [
  {
   "cell_type": "markdown",
   "id": "f4503501",
   "metadata": {},
   "source": [
    "# 課題4：エラトステネスのふるい"
   ]
  },
  {
   "cell_type": "code",
   "execution_count": null,
   "id": "bb56d450",
   "metadata": {},
   "outputs": [
    {
     "name": "stdout",
     "output_type": "stream",
     "text": [
      "2\n",
      "3\n",
      "5\n",
      "7\n",
      "11\n",
      "13\n",
      "17\n",
      "19\n",
      "23\n",
      "29\n",
      "31\n",
      "37\n",
      "41\n",
      "43\n",
      "47\n",
      "53\n",
      "59\n",
      "61\n",
      "67\n",
      "71\n",
      "73\n",
      "79\n",
      "83\n",
      "89\n",
      "97\n"
     ]
    }
   ],
   "source": [
    "# 2から100までの数をリストに格納(1は素数ではないので除外)\n",
    "primes = list(range(2, 101))\n",
    "# 2から√100までの数で割り切れる数をリストから削除\n",
    "for i in range(2, 10):\n",
    "    new_primes = []\n",
    "    for p in primes:\n",
    "        # pがiで割り切れない場合、またはp自身がiの場合は残す\n",
    "        if p % i != 0:  # iで割り切れない数\n",
    "            new_primes.append(p)\n",
    "        elif p == i:    # i自身は素数として残す\n",
    "            new_primes.append(p)\n",
    "        # else: 素数でない\n",
    "    primes = new_primes\n",
    "# 結果を表示\n",
    "for prime in primes:\n",
    "    print(prime)"
   ]
  }
 ],
 "metadata": {
  "kernelspec": {
   "display_name": ".venv",
   "language": "python",
   "name": "python3"
  },
  "language_info": {
   "codemirror_mode": {
    "name": "ipython",
    "version": 3
   },
   "file_extension": ".py",
   "mimetype": "text/x-python",
   "name": "python",
   "nbconvert_exporter": "python",
   "pygments_lexer": "ipython3",
   "version": "3.13.2"
  }
 },
 "nbformat": 4,
 "nbformat_minor": 5
}
