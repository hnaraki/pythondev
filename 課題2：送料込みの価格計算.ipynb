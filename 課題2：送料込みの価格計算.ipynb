{
 "cells": [
  {
   "cell_type": "markdown",
   "id": "fc288763",
   "metadata": {},
   "source": [
    "# 課題2：送料込みの価格計算\n"
   ]
  },
  {
   "cell_type": "code",
   "execution_count": null,
   "id": "457f2171",
   "metadata": {},
   "outputs": [
    {
     "name": "stdout",
     "output_type": "stream",
     "text": [
      "2200\n",
      "送料は無料です\n",
      "合計金額は 2200 円です。\n"
     ]
    }
   ],
   "source": [
    "# 定数定義\n",
    "tax_rate = 0.1  # 税率10%\n",
    "shipping_fee = 350  # 送料350円\n",
    "shipping_fee_threshold = 2000  # 送料無料の閾値\n",
    "\n",
    "# main\n",
    "price_before_tax = input(\"税抜価格を入力してください：\")\n",
    "# 小数点以下四捨五入として税込価格を計算\n",
    "price_include_tax = int(int(price_before_tax) * (1 + tax_rate) + 0.5)\n",
    "print(price_include_tax)\n",
    "if price_include_tax >= shipping_fee_threshold:\n",
    "    print(\"送料は無料です\")\n",
    "else:\n",
    "    print(f\"送料として{shipping_fee}円かかります\")\n",
    "    price_include_tax += shipping_fee\n",
    "print(f\"合計金額は {price_include_tax} 円です。\")"
   ]
  },
  {
   "cell_type": "code",
   "execution_count": null,
   "id": "73816c62",
   "metadata": {},
   "outputs": [],
   "source": []
  }
 ],
 "metadata": {
  "kernelspec": {
   "display_name": ".venv",
   "language": "python",
   "name": "python3"
  },
  "language_info": {
   "codemirror_mode": {
    "name": "ipython",
    "version": 3
   },
   "file_extension": ".py",
   "mimetype": "text/x-python",
   "name": "python",
   "nbconvert_exporter": "python",
   "pygments_lexer": "ipython3",
   "version": "3.13.2"
  }
 },
 "nbformat": 4,
 "nbformat_minor": 5
}
