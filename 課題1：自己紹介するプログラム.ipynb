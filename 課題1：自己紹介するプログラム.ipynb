{
 "cells": [
  {
   "cell_type": "markdown",
   "id": "9ff3db97",
   "metadata": {},
   "source": [
    "# 課題1：自己紹介するプログラム"
   ]
  },
  {
   "cell_type": "code",
   "execution_count": 5,
   "id": "8694646d",
   "metadata": {},
   "outputs": [
    {
     "name": "stdout",
     "output_type": "stream",
     "text": [
      "私の名前は taro kirameki です。来年で 26 歳になります。\n"
     ]
    }
   ],
   "source": [
    "# 命令1\n",
    "# 画面に「名前を入力してください：」と表示したうえで、キーボードから名前を受けつけ、変数 name に格納します。\n",
    "input_name = str(input(\"名前を入力してください：\"))\n",
    "# 命令2\n",
    "# 画面に「現在の年齢を入力してください：」と表示したうえで、キーボードから現在の年齢を受け付けて、変数 age に格納します。\n",
    "input_age = int(input(\"現在の年齢を入力してください：\"))\n",
    "# 命令3\n",
    "# 画面に「私の名前は ○○ です。来年で △△ 歳になります。」と表示します。来年の年齢を表示してください！\n",
    "next_years_age = input_age + 1\n",
    "print(f\"私の名前は {input_name} です。来年で {next_years_age} 歳になります。\")"
   ]
  }
 ],
 "metadata": {
  "kernelspec": {
   "display_name": ".venv",
   "language": "python",
   "name": "python3"
  },
  "language_info": {
   "codemirror_mode": {
    "name": "ipython",
    "version": 3
   },
   "file_extension": ".py",
   "mimetype": "text/x-python",
   "name": "python",
   "nbconvert_exporter": "python",
   "pygments_lexer": "ipython3",
   "version": "3.13.2"
  }
 },
 "nbformat": 4,
 "nbformat_minor": 5
}
