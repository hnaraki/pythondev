{
 "cells": [
  {
   "cell_type": "markdown",
   "id": "fd726aee",
   "metadata": {},
   "source": [
    "# 課題10：野球のリーグ戦の勝ち負け数"
   ]
  },
  {
   "cell_type": "code",
   "execution_count": 1,
   "id": "1879cbf2",
   "metadata": {},
   "outputs": [],
   "source": [
    "# Baseball_Team class\n",
    "class Baseball_Team:\n",
    "    def __init__(self, name, wins, lose, draw):\n",
    "        self.name = name\n",
    "        self.wins = wins\n",
    "        self.lose = lose\n",
    "        self.draw = draw\n",
    "\n",
    "    def calc_win_rate(self):\n",
    "        # 勝率は、勝ち数/(勝ち数+負け数)\n",
    "        return self.wins / (self.wins + self.lose)\n",
    "\n",
    "    def show_team_result(self):\n",
    "        win_rate = self.calc_win_rate()\n",
    "        print(f\"{self.name:10s} {self.wins:3d}  {self.lose:3d}  {self.draw:3d} {win_rate:.3f}\")\n",
    "        "
   ]
  },
  {
   "cell_type": "code",
   "execution_count": 2,
   "id": "5e0623d0",
   "metadata": {},
   "outputs": [
    {
     "name": "stdout",
     "output_type": "stream",
     "text": [
      "team\t   win lose draw rate\n",
      "Archers     77   64    2 0.546\n",
      "Meteors     71   69    3 0.507\n",
      "Cheetahs    69   68    6 0.504\n",
      "Sharks      79   70    3 0.530\n",
      "Pythons     68   73    2 0.482\n",
      "Owls        59   82    2 0.418\n"
     ]
    }
   ],
   "source": [
    "teams = []\n",
    "teams.append(Baseball_Team(\"Archers\", 77, 64, 2))\n",
    "teams.append(Baseball_Team(\"Meteors\", 71, 69, 3))\n",
    "teams.append(Baseball_Team(\"Cheetahs\", 69, 68, 6))\n",
    "teams.append(Baseball_Team(\"Sharks\", 79, 70, 3))\n",
    "teams.append(Baseball_Team(\"Pythons\", 68, 73, 2))\n",
    "teams.append(Baseball_Team(\"Owls\", 59, 82, 2))\n",
    "\n",
    "print(\"team\\t   win lose draw rate\")\n",
    "for team in teams:\n",
    "    team.show_team_result()"
   ]
  }
 ],
 "metadata": {
  "kernelspec": {
   "display_name": ".venv",
   "language": "python",
   "name": "python3"
  },
  "language_info": {
   "codemirror_mode": {
    "name": "ipython",
    "version": 3
   },
   "file_extension": ".py",
   "mimetype": "text/x-python",
   "name": "python",
   "nbconvert_exporter": "python",
   "pygments_lexer": "ipython3",
   "version": "3.13.2"
  }
 },
 "nbformat": 4,
 "nbformat_minor": 5
}
