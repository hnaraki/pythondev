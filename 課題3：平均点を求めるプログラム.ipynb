{
 "cells": [
  {
   "cell_type": "markdown",
   "id": "73ba3c8e",
   "metadata": {},
   "source": [
    "# 課題3：平均点を求めるプログラム"
   ]
  },
  {
   "cell_type": "code",
   "execution_count": null,
   "id": "dc018e98",
   "metadata": {},
   "outputs": [
    {
     "name": "stdout",
     "output_type": "stream",
     "text": [
      "1人のテストの平均点は10.0点です\n"
     ]
    }
   ],
   "source": [
    "total_score = 0\n",
    "count = 0\n",
    "while True:\n",
    "    score = int(input(\"点数を入力してください：\"))\n",
    "    if score == -1:\n",
    "        break\n",
    "    count += 1\n",
    "    total_score += int(score)\n",
    "# ZeroDivisionError を避けるため入力人数0の場合は何もしない\n",
    "if count > 0:\n",
    "    average = total_score / count\n",
    "    # 平均点は小数第2位を四捨五入\n",
    "    average_score = round(average, 1)\n",
    "    print(f\"{count}人のテストの平均点は{average_score:.1f}点です\")"
   ]
  }
 ],
 "metadata": {
  "kernelspec": {
   "display_name": ".venv",
   "language": "python",
   "name": "python3"
  },
  "language_info": {
   "codemirror_mode": {
    "name": "ipython",
    "version": 3
   },
   "file_extension": ".py",
   "mimetype": "text/x-python",
   "name": "python",
   "nbconvert_exporter": "python",
   "pygments_lexer": "ipython3",
   "version": "3.13.2"
  }
 },
 "nbformat": 4,
 "nbformat_minor": 5
}
