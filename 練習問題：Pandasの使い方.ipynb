{
 "cells": [
  {
   "cell_type": "markdown",
   "id": "04881a0e",
   "metadata": {},
   "source": [
    "# 練習問題：Pandasの使い方"
   ]
  },
  {
   "cell_type": "markdown",
   "id": "95e81190",
   "metadata": {},
   "source": [
    "## 問1"
   ]
  },
  {
   "cell_type": "code",
   "execution_count": 1,
   "id": "0e8be0dc",
   "metadata": {},
   "outputs": [],
   "source": [
    "# Pandasをインポート\n",
    "import pandas as pd\n",
    "\n",
    "# sample.csvを読み込み\n",
    "df = pd.read_csv(\"pandas_sample.csv\")"
   ]
  },
  {
   "cell_type": "code",
   "execution_count": 2,
   "id": "59ffb820",
   "metadata": {},
   "outputs": [
    {
     "data": {
      "text/html": [
       "<div>\n",
       "<style scoped>\n",
       "    .dataframe tbody tr th:only-of-type {\n",
       "        vertical-align: middle;\n",
       "    }\n",
       "\n",
       "    .dataframe tbody tr th {\n",
       "        vertical-align: top;\n",
       "    }\n",
       "\n",
       "    .dataframe thead th {\n",
       "        text-align: right;\n",
       "    }\n",
       "</style>\n",
       "<table border=\"1\" class=\"dataframe\">\n",
       "  <thead>\n",
       "    <tr style=\"text-align: right;\">\n",
       "      <th></th>\n",
       "      <th>name</th>\n",
       "      <th>age</th>\n",
       "      <th>pref</th>\n",
       "    </tr>\n",
       "  </thead>\n",
       "  <tbody>\n",
       "    <tr>\n",
       "      <th>0</th>\n",
       "      <td>Tanaka</td>\n",
       "      <td>25</td>\n",
       "      <td>Tokyo</td>\n",
       "    </tr>\n",
       "    <tr>\n",
       "      <th>1</th>\n",
       "      <td>Suzuki</td>\n",
       "      <td>30</td>\n",
       "      <td>Saitama</td>\n",
       "    </tr>\n",
       "    <tr>\n",
       "      <th>2</th>\n",
       "      <td>Sato</td>\n",
       "      <td>20</td>\n",
       "      <td>Aichi</td>\n",
       "    </tr>\n",
       "    <tr>\n",
       "      <th>3</th>\n",
       "      <td>Nishino</td>\n",
       "      <td>49</td>\n",
       "      <td>Saga</td>\n",
       "    </tr>\n",
       "    <tr>\n",
       "      <th>4</th>\n",
       "      <td>Oosawa</td>\n",
       "      <td>58</td>\n",
       "      <td>Kouchi</td>\n",
       "    </tr>\n",
       "    <tr>\n",
       "      <th>5</th>\n",
       "      <td>Ishibashi</td>\n",
       "      <td>42</td>\n",
       "      <td>Tokyo</td>\n",
       "    </tr>\n",
       "    <tr>\n",
       "      <th>6</th>\n",
       "      <td>Katagiri</td>\n",
       "      <td>21</td>\n",
       "      <td>Fukuoka</td>\n",
       "    </tr>\n",
       "    <tr>\n",
       "      <th>7</th>\n",
       "      <td>Mita</td>\n",
       "      <td>35</td>\n",
       "      <td>Tokyo</td>\n",
       "    </tr>\n",
       "    <tr>\n",
       "      <th>8</th>\n",
       "      <td>Fujisawa</td>\n",
       "      <td>47</td>\n",
       "      <td>Ibaraki</td>\n",
       "    </tr>\n",
       "    <tr>\n",
       "      <th>9</th>\n",
       "      <td>Oota</td>\n",
       "      <td>17</td>\n",
       "      <td>Okinawa</td>\n",
       "    </tr>\n",
       "  </tbody>\n",
       "</table>\n",
       "</div>"
      ],
      "text/plain": [
       "        name  age     pref\n",
       "0     Tanaka   25    Tokyo\n",
       "1     Suzuki   30  Saitama\n",
       "2       Sato   20    Aichi\n",
       "3    Nishino   49     Saga\n",
       "4     Oosawa   58   Kouchi\n",
       "5  Ishibashi   42    Tokyo\n",
       "6   Katagiri   21  Fukuoka\n",
       "7       Mita   35    Tokyo\n",
       "8   Fujisawa   47  Ibaraki\n",
       "9       Oota   17  Okinawa"
      ]
     },
     "execution_count": 2,
     "metadata": {},
     "output_type": "execute_result"
    }
   ],
   "source": [
    "df"
   ]
  },
  {
   "cell_type": "markdown",
   "id": "81830e41",
   "metadata": {},
   "source": [
    "## 問2"
   ]
  },
  {
   "cell_type": "code",
   "execution_count": 3,
   "id": "1b55bad4",
   "metadata": {},
   "outputs": [
    {
     "data": {
      "text/html": [
       "<div>\n",
       "<style scoped>\n",
       "    .dataframe tbody tr th:only-of-type {\n",
       "        vertical-align: middle;\n",
       "    }\n",
       "\n",
       "    .dataframe tbody tr th {\n",
       "        vertical-align: top;\n",
       "    }\n",
       "\n",
       "    .dataframe thead th {\n",
       "        text-align: right;\n",
       "    }\n",
       "</style>\n",
       "<table border=\"1\" class=\"dataframe\">\n",
       "  <thead>\n",
       "    <tr style=\"text-align: right;\">\n",
       "      <th></th>\n",
       "      <th>name</th>\n",
       "      <th>age</th>\n",
       "      <th>pref</th>\n",
       "    </tr>\n",
       "  </thead>\n",
       "  <tbody>\n",
       "    <tr>\n",
       "      <th>0</th>\n",
       "      <td>Tanaka</td>\n",
       "      <td>25</td>\n",
       "      <td>Tokyo</td>\n",
       "    </tr>\n",
       "    <tr>\n",
       "      <th>1</th>\n",
       "      <td>Suzuki</td>\n",
       "      <td>30</td>\n",
       "      <td>Saitama</td>\n",
       "    </tr>\n",
       "    <tr>\n",
       "      <th>2</th>\n",
       "      <td>Sato</td>\n",
       "      <td>20</td>\n",
       "      <td>Aichi</td>\n",
       "    </tr>\n",
       "    <tr>\n",
       "      <th>3</th>\n",
       "      <td>Nishino</td>\n",
       "      <td>49</td>\n",
       "      <td>Saga</td>\n",
       "    </tr>\n",
       "    <tr>\n",
       "      <th>4</th>\n",
       "      <td>Oosawa</td>\n",
       "      <td>58</td>\n",
       "      <td>Kouchi</td>\n",
       "    </tr>\n",
       "  </tbody>\n",
       "</table>\n",
       "</div>"
      ],
      "text/plain": [
       "      name  age     pref\n",
       "0   Tanaka   25    Tokyo\n",
       "1   Suzuki   30  Saitama\n",
       "2     Sato   20    Aichi\n",
       "3  Nishino   49     Saga\n",
       "4   Oosawa   58   Kouchi"
      ]
     },
     "execution_count": 3,
     "metadata": {},
     "output_type": "execute_result"
    }
   ],
   "source": [
    "df.head()"
   ]
  },
  {
   "cell_type": "markdown",
   "id": "ac92a63b",
   "metadata": {},
   "source": [
    "## 問3"
   ]
  },
  {
   "cell_type": "code",
   "execution_count": 4,
   "id": "c417a3b7",
   "metadata": {},
   "outputs": [
    {
     "data": {
      "text/html": [
       "<div>\n",
       "<style scoped>\n",
       "    .dataframe tbody tr th:only-of-type {\n",
       "        vertical-align: middle;\n",
       "    }\n",
       "\n",
       "    .dataframe tbody tr th {\n",
       "        vertical-align: top;\n",
       "    }\n",
       "\n",
       "    .dataframe thead th {\n",
       "        text-align: right;\n",
       "    }\n",
       "</style>\n",
       "<table border=\"1\" class=\"dataframe\">\n",
       "  <thead>\n",
       "    <tr style=\"text-align: right;\">\n",
       "      <th></th>\n",
       "      <th>name</th>\n",
       "      <th>pref</th>\n",
       "    </tr>\n",
       "  </thead>\n",
       "  <tbody>\n",
       "    <tr>\n",
       "      <th>0</th>\n",
       "      <td>Tanaka</td>\n",
       "      <td>Tokyo</td>\n",
       "    </tr>\n",
       "    <tr>\n",
       "      <th>2</th>\n",
       "      <td>Sato</td>\n",
       "      <td>Aichi</td>\n",
       "    </tr>\n",
       "    <tr>\n",
       "      <th>4</th>\n",
       "      <td>Oosawa</td>\n",
       "      <td>Kouchi</td>\n",
       "    </tr>\n",
       "    <tr>\n",
       "      <th>6</th>\n",
       "      <td>Katagiri</td>\n",
       "      <td>Fukuoka</td>\n",
       "    </tr>\n",
       "    <tr>\n",
       "      <th>8</th>\n",
       "      <td>Fujisawa</td>\n",
       "      <td>Ibaraki</td>\n",
       "    </tr>\n",
       "  </tbody>\n",
       "</table>\n",
       "</div>"
      ],
      "text/plain": [
       "       name     pref\n",
       "0    Tanaka    Tokyo\n",
       "2      Sato    Aichi\n",
       "4    Oosawa   Kouchi\n",
       "6  Katagiri  Fukuoka\n",
       "8  Fujisawa  Ibaraki"
      ]
     },
     "execution_count": 4,
     "metadata": {},
     "output_type": "execute_result"
    }
   ],
   "source": [
    "# 行と列それぞれ1つおきにデータを表示(列は列番号で指定)\n",
    "df.iloc[::2, ::2]"
   ]
  },
  {
   "cell_type": "markdown",
   "id": "ab879417",
   "metadata": {},
   "source": [
    "## 問5"
   ]
  },
  {
   "cell_type": "code",
   "execution_count": 5,
   "id": "ec61438c",
   "metadata": {},
   "outputs": [
    {
     "data": {
      "text/html": [
       "<div>\n",
       "<style scoped>\n",
       "    .dataframe tbody tr th:only-of-type {\n",
       "        vertical-align: middle;\n",
       "    }\n",
       "\n",
       "    .dataframe tbody tr th {\n",
       "        vertical-align: top;\n",
       "    }\n",
       "\n",
       "    .dataframe thead th {\n",
       "        text-align: right;\n",
       "    }\n",
       "</style>\n",
       "<table border=\"1\" class=\"dataframe\">\n",
       "  <thead>\n",
       "    <tr style=\"text-align: right;\">\n",
       "      <th></th>\n",
       "      <th>name</th>\n",
       "      <th>age</th>\n",
       "      <th>pref</th>\n",
       "    </tr>\n",
       "  </thead>\n",
       "  <tbody>\n",
       "    <tr>\n",
       "      <th>5</th>\n",
       "      <td>Ishibashi</td>\n",
       "      <td>42</td>\n",
       "      <td>Tokyo</td>\n",
       "    </tr>\n",
       "    <tr>\n",
       "      <th>7</th>\n",
       "      <td>Mita</td>\n",
       "      <td>35</td>\n",
       "      <td>Tokyo</td>\n",
       "    </tr>\n",
       "  </tbody>\n",
       "</table>\n",
       "</div>"
      ],
      "text/plain": [
       "        name  age   pref\n",
       "5  Ishibashi   42  Tokyo\n",
       "7       Mita   35  Tokyo"
      ]
     },
     "execution_count": 5,
     "metadata": {},
     "output_type": "execute_result"
    }
   ],
   "source": [
    "# 35歳以上でprefが'tokyo'のデータを表示\n",
    "df.query(\"age >= 35 and pref == 'Tokyo'\")"
   ]
  }
 ],
 "metadata": {
  "kernelspec": {
   "display_name": ".venv",
   "language": "python",
   "name": "python3"
  },
  "language_info": {
   "codemirror_mode": {
    "name": "ipython",
    "version": 3
   },
   "file_extension": ".py",
   "mimetype": "text/x-python",
   "name": "python",
   "nbconvert_exporter": "python",
   "pygments_lexer": "ipython3",
   "version": "3.12.11"
  }
 },
 "nbformat": 4,
 "nbformat_minor": 5
}
